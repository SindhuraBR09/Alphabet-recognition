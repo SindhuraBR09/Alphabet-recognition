{
 "cells": [
  {
   "cell_type": "code",
   "execution_count": 129,
   "id": "6a827c93",
   "metadata": {},
   "outputs": [
    {
     "name": "stdout",
     "output_type": "stream",
     "text": [
      "(372450, 785)\n"
     ]
    }
   ],
   "source": [
    "import numpy as np\n",
    "from keras.datasets import mnist\n",
    "import tensorflow\n",
    "import keras\n",
    "from tensorflow.keras.utils import to_categorical\n",
    "import pandas as pd\n",
    "from sklearn.model_selection import train_test_split\n",
    "\n",
    "df = pd.read_csv('A_Z_Handwritten_Data.csv').astype('float32')\n",
    "my_frame = pd.DataFrame(df)\n",
    "x = my_frame.drop('0', axis = 1)\n",
    "y = my_frame['0']\n",
    "\n",
    "print(my_frame.shape)"
   ]
  },
  {
   "cell_type": "code",
   "execution_count": 133,
   "id": "ce1f4231",
   "metadata": {},
   "outputs": [
    {
     "data": {
      "text/plain": [
       "0          0.0\n",
       "1          0.0\n",
       "2          0.0\n",
       "3          0.0\n",
       "4          0.0\n",
       "5          0.0\n",
       "6          0.0\n",
       "7          0.0\n",
       "8          0.0\n",
       "9          0.0\n",
       "10         0.0\n",
       "11         0.0\n",
       "12         0.0\n",
       "13         0.0\n",
       "14         0.0\n",
       "15         0.0\n",
       "16         0.0\n",
       "17         0.0\n",
       "18         0.0\n",
       "19         0.0\n",
       "20         0.0\n",
       "21         0.0\n",
       "22         0.0\n",
       "23         0.0\n",
       "24         0.0\n",
       "25         0.0\n",
       "26         0.0\n",
       "27         0.0\n",
       "28         0.0\n",
       "29         0.0\n",
       "          ... \n",
       "372420    25.0\n",
       "372421    25.0\n",
       "372422    25.0\n",
       "372423    25.0\n",
       "372424    25.0\n",
       "372425    25.0\n",
       "372426    25.0\n",
       "372427    25.0\n",
       "372428    25.0\n",
       "372429    25.0\n",
       "372430    25.0\n",
       "372431    25.0\n",
       "372432    25.0\n",
       "372433    25.0\n",
       "372434    25.0\n",
       "372435    25.0\n",
       "372436    25.0\n",
       "372437    25.0\n",
       "372438    25.0\n",
       "372439    25.0\n",
       "372440    25.0\n",
       "372441    25.0\n",
       "372442    25.0\n",
       "372443    25.0\n",
       "372444    25.0\n",
       "372445    25.0\n",
       "372446    25.0\n",
       "372447    25.0\n",
       "372448    25.0\n",
       "372449    25.0\n",
       "Name: 0, Length: 372450, dtype: float32"
      ]
     },
     "execution_count": 133,
     "metadata": {},
     "output_type": "execute_result"
    }
   ],
   "source": [
    "y"
   ]
  },
  {
   "cell_type": "code",
   "execution_count": 134,
   "id": "671245b2",
   "metadata": {},
   "outputs": [
    {
     "data": {
      "text/plain": [
       "(372450, 784)"
      ]
     },
     "execution_count": 134,
     "metadata": {},
     "output_type": "execute_result"
    }
   ],
   "source": [
    "x.shape"
   ]
  },
  {
   "cell_type": "code",
   "execution_count": 135,
   "id": "2b5a909b",
   "metadata": {},
   "outputs": [
    {
     "data": {
      "text/plain": [
       "(372450,)"
      ]
     },
     "execution_count": 135,
     "metadata": {},
     "output_type": "execute_result"
    }
   ],
   "source": [
    "y.shape"
   ]
  },
  {
   "cell_type": "code",
   "execution_count": 136,
   "id": "a0913a1d",
   "metadata": {},
   "outputs": [
    {
     "name": "stderr",
     "output_type": "stream",
     "text": [
      "C:\\Users\\SINDHURA\\Miniconda3\\envs\\nlp_course\\lib\\site-packages\\sklearn\\preprocessing\\data.py:323: DataConversionWarning: Data with input dtype float32 were all converted to float64 by MinMaxScaler.\n",
      "  return self.partial_fit(X, y)\n"
     ]
    },
    {
     "name": "stdout",
     "output_type": "stream",
     "text": [
      "New shape of train labels: (297960, 26)\n",
      "New shape of test labels: (74490, 26)\n",
      "(297960, 28, 28)\n",
      "(74490, 28, 28)\n"
     ]
    }
   ],
   "source": [
    "from sklearn.preprocessing import MinMaxScaler\n",
    "from keras.utils import np_utils\n",
    "\n",
    "x_train,x_test,y_train,y_test = train_test_split(x,y, test_size=0.2)\n",
    "\n",
    "standard_scaler = MinMaxScaler()\n",
    "standard_scaler.fit(x_train)\n",
    "\n",
    "# scaling data\n",
    "x_train = standard_scaler.transform(x_train)\n",
    "x_test = standard_scaler.transform(x_test)\n",
    "\n",
    "# One hot encoding targets\n",
    "y_train = to_categorical(y_train, num_classes = 26, dtype = 'int')\n",
    "print(\"New shape of train labels:\", y_train.shape)\n",
    "\n",
    "y_test = to_categorical(y_test, num_classes = 26, dtype = 'int')\n",
    "print(\"New shape of test labels:\", y_test.shape)\n",
    "\n",
    "x_train = np.reshape(x_train, (x_train.shape[0], 28, 28))\n",
    "x_test = np.reshape(x_test, (x_test.shape[0], 28, 28))\n",
    "\n",
    "print(x_train.shape)\n",
    "print(x_test.shape)"
   ]
  },
  {
   "cell_type": "code",
   "execution_count": 109,
   "id": "75f8b699",
   "metadata": {},
   "outputs": [
    {
     "name": "stdout",
     "output_type": "stream",
     "text": [
      "New shape of train data: (297960, 28, 28, 1)\n",
      "New shape of test data: (74490, 28, 28, 1)\n"
     ]
    }
   ],
   "source": [
    "x_train = x_train.reshape(x_train.shape[0], x_train.shape[1], x_train.shape[2], 1)\n",
    "print(\"New shape of train data:\", x_train.shape)\n",
    "\n",
    "x_test = x_test.reshape(x_test.shape[0], x_test.shape[1], x_test.shape[2], 1)\n",
    "print(\"New shape of test data:\", x_test.shape)"
   ]
  },
  {
   "cell_type": "code",
   "execution_count": 110,
   "id": "6c8240c4",
   "metadata": {},
   "outputs": [],
   "source": [
    "from keras.models import Sequential\n",
    "from keras.layers import Dense, Flatten, Dropout\n",
    "from keras.layers import Conv2D, MaxPooling2D\n",
    "from tensorflow.keras import layers\n",
    "\n",
    "input_shape = (28,28,1)\n",
    "model = Sequential()\n",
    "model.add(Conv2D(32, kernel_size=(3, 3),\n",
    "                 activation='relu',\n",
    "                 input_shape=input_shape))\n",
    "model.add(Conv2D(64, (3, 3), activation='relu'))\n",
    "model.add(MaxPooling2D(pool_size=(2, 2)))\n",
    "model.add(Dropout(0.25))\n",
    "model.add(Flatten())\n",
    "model.add(Dense(128, activation='relu'))\n",
    "model.add(Dropout(0.5))\n",
    "model.add(Dense(26, activation='softmax'))\n",
    "\n",
    "# Comple the model\n",
    "model.compile(loss=keras.losses.categorical_crossentropy,\n",
    "              optimizer='adam',\n",
    "              metrics=['accuracy'])\n"
   ]
  },
  {
   "cell_type": "code",
   "execution_count": 111,
   "id": "e59da81b",
   "metadata": {},
   "outputs": [
    {
     "name": "stdout",
     "output_type": "stream",
     "text": [
      "Train on 297960 samples, validate on 74490 samples\n",
      "Epoch 1/2\n",
      "297960/297960 [==============================] - 1180s 4ms/step - loss: 0.2499 - accuracy: 0.9288 - val_loss: 0.0649 - val_accuracy: 0.9814\n",
      "\n",
      "Epoch 00001: val_loss improved from inf to 0.06495, saving model to best_model.h5\n",
      "Epoch 2/2\n",
      "297960/297960 [==============================] - 1272s 4ms/step - loss: 0.1171 - accuracy: 0.9674 - val_loss: 0.0506 - val_accuracy: 0.9858\n",
      "\n",
      "Epoch 00002: val_loss improved from 0.06495 to 0.05064, saving model to best_model.h5\n",
      "History : \n",
      "{'val_loss': [0.06494549080083847, 0.05063800525539982], 'val_accuracy': [0.9814069271087646, 0.9858235716819763], 'loss': [0.24990424761753183, 0.11710812265288692], 'accuracy': [0.92881256, 0.9673681]}\n"
     ]
    }
   ],
   "source": [
    "checkpointer = keras.callbacks.ModelCheckpoint(filepath='best_model.h5', verbose=1,save_best_only=True)\n",
    "history = model.fit(x_train, y_train, epochs = 2, validation_data = (x_test, y_test), callbacks=[checkpointer])\n",
    "print(\"History : \" )\n",
    "print(history.history)"
   ]
  },
  {
   "cell_type": "code",
   "execution_count": 112,
   "id": "100393a1",
   "metadata": {},
   "outputs": [
    {
     "data": {
      "image/png": "[encoded data removed]",
      "text/plain": [
       "<Figure size 432x288 with 1 Axes>"
      ]
     },
     "metadata": {
      "needs_background": "light"
     },
     "output_type": "display_data"
    },
    {
     "data": {
      "text/plain": [
       "[0.24990424761753183, 0.11710812265288692]"
      ]
     },
     "execution_count": 112,
     "metadata": {},
     "output_type": "execute_result"
    }
   ],
   "source": [
    "import matplotlib.pyplot as plt\n",
    "\n",
    "plt.plot(history.history['loss'])\n",
    "plt.plot(history.history['val_loss'])\n",
    "plt.legend(['training', 'validation'])\n",
    "plt.title('loss')\n",
    "plt.xlabel('Epoch')\n",
    "plt.show()\n",
    "\n",
    "history.history['loss']"
   ]
  },
  {
   "cell_type": "code",
   "execution_count": 113,
   "id": "d2bf903d",
   "metadata": {},
   "outputs": [
    {
     "data": {
      "image/png": "[encoded data removed]",
      "text/plain": [
       "<Figure size 432x288 with 1 Axes>"
      ]
     },
     "metadata": {
      "needs_background": "light"
     },
     "output_type": "display_data"
    }
   ],
   "source": [
    "plt.plot(history.history['accuracy'])\n",
    "plt.plot(history.history['val_accuracy'])\n",
    "plt.legend(['training', 'validation'])\n",
    "plt.title('Accuracy')\n",
    "plt.xlabel('Epoch')\n",
    "plt.show()"
   ]
  },
  {
   "cell_type": "code",
   "execution_count": 114,
   "id": "e512bfcd",
   "metadata": {},
   "outputs": [],
   "source": [
    "import keras\n",
    "model = keras.models.load_model('best_model.h5')"
   ]
  },
  {
   "cell_type": "code",
   "execution_count": 124,
   "id": "f0588754",
   "metadata": {
    "scrolled": true
   },
   "outputs": [
    {
     "name": "stdout",
     "output_type": "stream",
     "text": [
      "Sindhura\n",
      "(28, 28)\n",
      "J\n",
      "Sindhura\n",
      "(28, 28)\n",
      "J\n",
      "Sindhura\n",
      "(28, 28)\n",
      "J\n",
      "Sindhura\n",
      "(28, 28)\n",
      "J\n",
      "Sindhura\n",
      "(28, 28)\n",
      "J\n",
      "Sindhura\n",
      "(28, 28)\n",
      "J\n",
      "Sindhura\n",
      "(28, 28)\n",
      "J\n",
      "Sindhura\n",
      "(28, 28)\n",
      "J\n",
      "Sindhura\n",
      "(28, 28)\n",
      "J\n",
      "Sindhura\n",
      "(28, 28)\n",
      "J\n",
      "Sindhura\n",
      "(28, 28)\n",
      "J\n",
      "Sindhura\n",
      "(28, 28)\n",
      "J\n"
     ]
    }
   ],
   "source": [
    "import cv2\n",
    "import numpy as np\n",
    "import controller as ct\n",
    "import time\n",
    "import mouse\n",
    "import tkinter as tk\n",
    "from collections import deque\n",
    "\n",
    "wCam , hCam = 640, 480\n",
    "\n",
    "root = tk.Tk()\n",
    "\n",
    "# screen_width = root.winfo_screenwidth()\n",
    "# screen_height = root.winfo_screenheight()\n",
    "\n",
    "# print(screen_height, screen_width)\n",
    "\n",
    "detector = ct.handDetector(maxHands=1)\n",
    "tipIds = [4,8,12,16,20]\n",
    "cap = cv2.VideoCapture(0)\n",
    "cap.set(3, wCam)\n",
    "cap.set(4, hCam)\n",
    "\n",
    "xp, yp = 0,0\n",
    "\n",
    "imgCanvas = np.zeros((480, 640, 3), np.uint8)\n",
    "imgBlur = np.zeros((480, 640, 3), np.uint8)\n",
    "alphabet = np.zeros((200, 200, 3), np.uint8)\n",
    "kernel = np.ones((5,5),np.uint8)\n",
    "\n",
    "points = deque(maxlen=512)\n",
    "\n",
    "redLow = np.array([161, 155, 84])\n",
    "redUp = np.array([179, 255, 255])\n",
    "\n",
    "letters = { 1: 'A', 2: 'B', 3: 'C', 4: 'D', 5: 'E', 6: 'F', 7: 'G', 8: 'H', 9: 'I', 10: 'J',\n",
    "11: 'K', 12: 'L', 13: 'M', 14: 'N', 15: 'O', 16: 'P', 17: 'Q', 18: 'R', 19: 'S', 20: 'T',\n",
    "21: 'U', 22: 'V', 23: 'W', 24: 'X', 25: 'Y', 26: 'Z', 27: '-'}\n",
    "\n",
    "while True:\n",
    "    success, img = cap.read()\n",
    "    img = cv2.flip(img,1)\n",
    "    \n",
    "\n",
    "    hsv = cv2.cvtColor(img, cv2.COLOR_BGR2HSV)\n",
    "    gray = cv2.cvtColor(img, cv2.COLOR_BGR2GRAY)\n",
    "\n",
    "    redMask = cv2.inRange(hsv, redLow, redUp)\n",
    "    redMask = cv2.erode(redMask, kernel, iterations=2)\n",
    "    redMask = cv2.morphologyEx(redMask, cv2.MORPH_OPEN, kernel)\n",
    "    redMask = cv2.dilate(redMask, kernel, iterations=1)\n",
    "\n",
    "    # Find contours in the image\n",
    "    (cnts, _) = cv2.findContours(redMask.copy(), cv2.RETR_EXTERNAL, cv2.CHAIN_APPROX_SIMPLE)\n",
    "    center = None\n",
    "\n",
    "    if len(cnts) > 0:\n",
    "        cnt = sorted(cnts, key = cv2.contourArea, reverse = True)[0]\n",
    "        ((x, y), radius) = cv2.minEnclosingCircle(cnt)\n",
    "        cv2.circle(img, (int(x), int(y)), int(radius), (0, 255, 255), 2)\n",
    "        M = cv2.moments(cnt)\n",
    "        center = (int(M['m10'] / M['m00']), int(M['m01'] / M['m00']))\n",
    "\n",
    "        points.appendleft(center)\n",
    "\n",
    "    elif len(cnts) == 0:            \n",
    "        if len(points) != 0:\n",
    "            \n",
    "                imgGrayscale = cv2.cvtColor(imgCanvas, cv2.COLOR_BGR2GRAY)            \n",
    "                blur1 = cv2.medianBlur(imgGrayscale, 15)\n",
    "                blur1 = cv2.GaussianBlur(blur1, (5, 5), 0)\n",
    "                thresh1 = cv2.threshold(imgGrayscale, 0, 255, cv2.THRESH_BINARY + cv2.THRESH_OTSU)[1]\n",
    "                thresh_cnt = cv2.findContours(thresh1.copy(), cv2.RETR_TREE, cv2.CHAIN_APPROX_NONE)[0]          \n",
    "    \n",
    "    \n",
    "   \n",
    "                if len(thresh_cnt) >= 1 :\n",
    "                    cnt = sorted(thresh_cnt, key=cv2.contourArea, reverse=True)[0]\n",
    "\n",
    "                    if cv2.contourArea(cnt) > 1000:\n",
    "                        print(\"Sindhura\")\n",
    "                        x,y,w,h = cv2.boundingRect(cnt)\n",
    "                        alphabet = imgGrayscale[y-10:y+h+10, x-10:x+w+10]\n",
    "\n",
    "                        try:\n",
    "                            imgChange = cv2.resize(alphabet, (28,28))\n",
    "                            print(imgChange.shape)\n",
    "                            imgChange = np.array(imgChange)\n",
    "                            imgChange = imgChange.astype('float32') / 255\n",
    "                            \n",
    "                            prediction = model.predict(imgChange.reshape(1,28,28,1))[0]\n",
    "                            prediction = np.argmax(prediction)    \n",
    "                            print(letters[prediction+1])\n",
    "                            \n",
    "                            points.clear()\n",
    "\n",
    "                        except Exception as e:\n",
    "                            print(e)\n",
    "                            break\n",
    "                    else:\n",
    "                        points.clear()\n",
    "                        \n",
    "                else:\n",
    "                    print(\"No cnt\")\n",
    "                    \n",
    "    for i in range(1, len(points)):\n",
    "        if points[i - 1] is None or points[i] is None:\n",
    "            continue\n",
    "        cv2.line(img, points[i - 1], points[i], (0, 0, 0), 2)\n",
    "        cv2.line(imgCanvas, points[i - 1], points[i], (255, 255, 255), 4)\n",
    "                \n",
    "    \n",
    "    img = cv2.addWeighted(img, 0.5, imgCanvas, 0.5, 0)\n",
    "    cv2.imshow(\"Video\", img)\n",
    "    cv2.imshow(\"Canvas\", imgCanvas)\n",
    "    if cv2.waitKey(1) & 0xFF == ord('q'):\n",
    "        break\n",
    "\n",
    "cap.release()\n",
    "cv2.destroyWindow(\"Video\")\n",
    "cv2.destroyWindow(\"Canvas\")\n"
   ]
  },
  {
   "cell_type": "code",
   "execution_count": 128,
   "id": "f5311115",
   "metadata": {},
   "outputs": [
    {
     "data": {
      "text/plain": [
       "(297960, 28, 28, 1)"
      ]
     },
     "execution_count": 128,
     "metadata": {},
     "output_type": "execute_result"
    }
   ],
   "source": [
    "x_train.shape"
   ]
  },
  {
   "cell_type": "code",
   "execution_count": null,
   "id": "2f0d4fd6",
   "metadata": {},
   "outputs": [],
   "source": []
  }
 ],
 "metadata": {
  "kernelspec": {
   "display_name": "Python 3",
   "language": "python",
   "name": "python3"
  },
  "language_info": {
   "codemirror_mode": {
    "name": "ipython",
    "version": 3
   },
   "file_extension": ".py",
   "mimetype": "text/x-python",
   "name": "python",
   "nbconvert_exporter": "python",
   "pygments_lexer": "ipython3",
   "version": "3.7.11"
  }
 },
 "nbformat": 4,
 "nbformat_minor": 5
}
